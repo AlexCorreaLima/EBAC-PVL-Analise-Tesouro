{
  "metadata": {
    "kernelspec": {
      "name": "python",
      "display_name": "Python (Pyodide)",
      "language": "python"
    },
    "language_info": {
      "codemirror_mode": {
        "name": "python",
        "version": 3
      },
      "file_extension": ".py",
      "mimetype": "text/x-python",
      "name": "python",
      "nbconvert_exporter": "python",
      "pygments_lexer": "ipython3",
      "version": "3.8"
    }
  },
  "nbformat_minor": 4,
  "nbformat": 4,
  "cells": [
    {
      "cell_type": "markdown",
      "source": "# Tarefa 03\n\n- Leia os enunciados com atenção\n- Saiba que pode haver mais de uma resposta correta\n- Insira novas células de código sempre que achar necessário\n- Em caso de dúvidas, procure os Tutores\n- Divirta-se :)",
      "metadata": {}
    },
    {
      "cell_type": "code",
      "source": "import pandas as pd\nimport requests",
      "metadata": {},
      "outputs": [],
      "execution_count": 26
    },
    {
      "cell_type": "markdown",
      "source": "####  1) Lendo de APIs\nVimos em aula como carregar dados públicos do governo através de um API (*Application Programming Interface*). No exemplo de aula, baixamos os dados de pedidos de verificação de limites (PVL) realizados por estados, e selecionamos apenas aqueles referentes ao estado de São Paulo.\n\n1. Repita os mesmos passos feitos em aula, mas selecione os PVLs realizados por municípios no estado do Rio de Janeiro.\n2. Quais são os três *status* das solicitações mais frequentes na base? Quais são suas frequências?\n3. Construa uma nova variável que contenha o ano do **status**. Observe que ```data_status``` vem como tipo *object* no **DataFrame**. Dica: você pode usar o método ```.str``` para transformar o tipo da variável em string, em seguida um método como [**slice()**](https://pandas.pydata.org/docs/reference/api/pandas.Series.str.slice.html) ou [**split()**](https://pandas.pydata.org/pandas-docs/stable/reference/api/pandas.Series.str.split.html).\n4. Indique a frequência de cada ano do campo construído no item (3).",
      "metadata": {}
    },
    {
      "cell_type": "code",
      "source": "# 1) Consultando os dados da API e filtrando apenas para o estado do RJ e tipo \"Município\"\nurl = \"https://apidatalake.tesouro.gov.br/ords/sadipem/tt/pvl\"\nparams = {\"uf\": \"RJ\", \"tipo_interessado\": \"Município\"}\n\nresponse = requests.get(url, params=params)\ndados = response.json()\n\ndf = pd.DataFrame(dados[\"items\"])\ndf.head()",
      "metadata": {},
      "outputs": [],
      "execution_count": 170
    },
    {
      "cell_type": "code",
      "source": "# 2) Três status mais frequentes\ndf['status'].value_counts().head(3)",
      "metadata": {},
      "outputs": [],
      "execution_count": 171
    },
    {
      "cell_type": "code",
      "source": "# 3) Seu códigExtraindo o ano da coluna data_status\ndf[\"ano_status\"] = df[\"data_status\"].str.slice(0, 4)\ndf[\"ano_status\"].value_counts()o aqui\n",
      "metadata": {},
      "outputs": [],
      "execution_count": 172
    },
    {
      "cell_type": "markdown",
      "source": "####  2) Melhorando a interação com o API\nObserve dois URLs de consultas diferentes, por exemplo o URL utilizado em aula, e o URL feito no exercício anterior. Compare-os e observe as diferenças.\n\n1. Faça uma função em Python que recebe como argumento o UF da consulta e o tipo de interessado (```'Estado'```ou ```Município```), e que devolve os dados da consulta no formato *DataFrame*.\n2. Quantas solicitações para o Estado podem ser consultadas para Minas Gerais com *status* em 'Arquivado por decurso de prazo' estão registradas?\n3. Qual é o município da Bahia com mais solicitações deferidas?\n4. Salve um arquivo .csv com os dados de solicitações da Bahia, com interessado = 'Estado'",
      "metadata": {}
    },
    {
      "cell_type": "code",
      "source": "#1) Função para consultar API por UF e tipo de interessado\nimport requests\nimport pandas as pd\n\ndef consultar_pvl(uf=None, tipo_interessado=None):\n    \"\"\"\n    Consulta a API do Tesouro Nacional para obter dados de PVL.\n\n    Args:\n        uf (str, opcional): Sigla da Unidade Federativa para filtrar. Defaults to None.\n        tipo_interessado (str, opcional): Tipo de interessado ('Estado' ou 'Município') para filtrar. Defaults to None.\n\n    Returns:\n        pandas.DataFrame: DataFrame com os dados da consulta.\n    \"\"\"\n    url = \"https://apidatalake.tesouro.gov.br/ords/sadipem/tt/pvl\"\n    params = {}\n    if uf:\n        params['uf'] = uf\n    if tipo_interessado:\n        params['tipo_interessado'] = tipo_interessado\n\n    response = requests.get(url, params=params)\n    response.raise_for_status()\n    data = response.json()\n    return pd.DataFrame(data['items'])",
      "metadata": {
        "trusted": true
      },
      "outputs": [],
      "execution_count": 5
    },
    {
      "cell_type": "code",
      "source": "# 2) # Consultar MG com tipo interessado \"Estado\"\ndf_mg_estados = consultar_pvl(uf=\"MG\", tipo_interessado=\"Estado\")\narquivados_mg = df_mg_estados[df_mg_estados['status'] == 'Arquivado por decurso de prazo']\nquantidade_arquivados_mg = len(arquivados_mg)\nprint(f\"O Estado de Minas Gerais possui {quantidade_arquivados_mg} solicitações arquivadas por decurso de prazo.\")",
      "metadata": {},
      "outputs": [],
      "execution_count": 174
    },
    {
      "cell_type": "code",
      "source": "# 3) Consultar BA com tipo interessado \"Município\"\ndf_ba_municipios = consultar_pvl(uf=\"BA\", tipo_interessado=\"Município\")\ndeferidas_ba = df_ba_municipios[df_ba_municipios['status'] == 'Deferido']\ncontagem_deferimentos = deferidas_ba['municipio'].value_counts()\nmunicipio_mais_deferimentos = contagem_deferimentos.index[0]\nmais_solicitacoes = contagem_deferimentos.iloc[0]\nprint(f\"O município da Bahia com mais solicitações deferidas é '{municipio_mais_deferimentos}' com {mais_solicitacoes} deferimentos.\")",
      "metadata": {},
      "outputs": [],
      "execution_count": 175
    },
    {
      "cell_type": "code",
      "source": "# 4) Consultar BA com tipo interessado \"Estado\"\ndf_ba_estados = consultar_pvl(uf=\"BA\", tipo_interessado=\"Estado\")\ndf_ba_estados.to_csv(\"solicitacoes_bahia_estados.csv\", index=False, encoding='utf-8')\nprint(\"Os dados de solicitações do estado da Bahia foram salvos em 'solicitacoes_bahia_estados.csv'.\")",
      "metadata": {
        "trusted": true
      },
      "outputs": [
        {
          "name": "stdout",
          "output_type": "stream",
          "text": "Os dados de solicitações do estado da Bahia foram salvos em 'solicitacoes_bahia_estados.csv'.\n"
        }
      ],
      "execution_count": 6
    },
    {
      "cell_type": "code",
      "source": "",
      "metadata": {
        "trusted": true
      },
      "outputs": [],
      "execution_count": null
    },
    {
      "cell_type": "code",
      "source": "",
      "metadata": {
        "trusted": true
      },
      "outputs": [],
      "execution_count": null
    }
  ]
}